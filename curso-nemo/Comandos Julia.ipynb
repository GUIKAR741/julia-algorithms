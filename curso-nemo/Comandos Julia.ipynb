{
 "cells": [
  {
   "cell_type": "markdown",
   "metadata": {},
   "source": [
    "# Linguagem Julia"
   ]
  },
  {
   "cell_type": "markdown",
   "metadata": {},
   "source": [
    "## OPERADORES ARITMÉTICOS\n",
    "\n",
    "Os operadores aritméticos executam operações matemáticas básicas, como adição e subtração com operandos. Existem dois tipos de operadores matemáticos: unário e binário. Um operador unário executa uma ação com um único operando, já os  um operador binário executa ação com dois operandos. Julia fornece uma coleção completa de operadores aritméticos para as mais diversas expressões de cálculo.\n",
    "\n",
    "\n",
    "| **Expressão** | **Nome**                              | \n",
    "| ------------- | --------------------------------------| \n",
    "| +x            | Operador unário de adição             |\n",
    "| -x            | Operador unário de subtração          | \n",
    "| x + y         | Operador binário de adição            | \n",
    "| x - y         | Operador binário de subtração         | \n",
    "| x * y         | Operador binário de multiplicação     | \n",
    "| x / y         | Operador binário de divisão           |\n",
    "| x ÷ y         | Operador binário de divisão inteira   |\n",
    "| x \\\\ y        | Operador binário de divisão esquerda  | \n",
    "| x ^ y         | Operador binário de potência          |\n",
    "| x % y         | Operador binário de resto             |"
   ]
  },
  {
   "cell_type": "markdown",
   "metadata": {},
   "source": [
    "## CALCULAR O TEMPO DE PROCESSAMENTO\n",
    "\n",
    "**@time**\n",
    "\n",
    "A macro `@time` mede o tempo de processamento para executar uma expressão, o número de alocações e o número total de bytes de sua execução.\n",
    "**@timev**\n",
    "\n",
    "Esta é uma versão detalhada da macro `@time`, acrescenta:\n",
    "- elapsed time : tempo de processamento;\n",
    "- bytes allocated: \n",
    "- pool allocs:\n",
    "\n",
    "**@elapsed**\n",
    "\n",
    "A macro para avaliar o tempo de processamento para executar uma expressão descartando o valor resultante."
   ]
  },
  {
   "cell_type": "code",
   "execution_count": 5,
   "metadata": {},
   "outputs": [
    {
     "name": "stdout",
     "output_type": "stream",
     "text": [
      "  0.000100 seconds (18 allocations: 384 bytes)\n"
     ]
    },
    {
     "data": {
      "text/plain": [
       "4.543647706547242"
      ]
     },
     "execution_count": 5,
     "metadata": {},
     "output_type": "execute_result"
    }
   ],
   "source": [
    "@time sqrt(\n",
    "    (2*pi + sqrt(log(2569854.5415263))\n",
    "        /(sin(52)*cos(log(25948.1452))))^100)\n",
    "    *exp(sin(0.8985424)\n",
    ")"
   ]
  },
  {
   "cell_type": "code",
   "execution_count": 2,
   "metadata": {},
   "outputs": [
    {
     "name": "stdout",
     "output_type": "stream",
     "text": [
      "  0.000101 seconds (18 allocations: 384 bytes)\n",
      "elapsed time (ns): 100630\n",
      "bytes allocated:   384\n",
      "pool allocs:       18\n"
     ]
    },
    {
     "data": {
      "text/plain": [
       "4.543647706547242"
      ]
     },
     "execution_count": 2,
     "metadata": {},
     "output_type": "execute_result"
    }
   ],
   "source": [
    "@timev sqrt(\n",
    "    (2*pi + sqrt(log(2569854.5415263))\n",
    "        /(sin(52)*cos(log(25948.1452))))^100)\n",
    "    *exp(sin(0.8985424)\n",
    ")"
   ]
  },
  {
   "cell_type": "code",
   "execution_count": 3,
   "metadata": {},
   "outputs": [
    {
     "data": {
      "text/plain": [
       "7.6182e-5"
      ]
     },
     "execution_count": 3,
     "metadata": {},
     "output_type": "execute_result"
    }
   ],
   "source": [
    "@elapsed sqrt(\n",
    "    (2*pi + sqrt(log(2569854.5415263))\n",
    "        /(sin(52)*cos(log(25948.1452))))^100)\n",
    "    *exp(sin(0.8985424)\n",
    ")"
   ]
  },
  {
   "cell_type": "markdown",
   "metadata": {},
   "source": [
    "## FUNÇÕES DE IMPRESSÃO\n",
    "\n",
    "**Função print() ou println()**\n",
    "\n",
    "Escreve (para o fluxo de saída padrão) uma representação textual ou um valor se houver. A representação usada pelo comando inclui formatação mínima.\n",
    "\n",
    "**Comando display**\n",
    "\n",
    "Semelhante à função `print()`, utiliza recursos mais elaborados de visualização. É excelente para imprimir na tela o resultado de várias expressões em linhas.\n",
    "\n",
    "**Macro @show()**\n",
    "\n",
    "É uma macro que exibe a expressão e o resultado do cálculo."
   ]
  },
  {
   "cell_type": "code",
   "execution_count": 6,
   "metadata": {},
   "outputs": [
    {
     "name": "stdout",
     "output_type": "stream",
     "text": [
      "0.7071067811865476"
     ]
    }
   ],
   "source": [
    "print(sind(45))"
   ]
  },
  {
   "cell_type": "code",
   "execution_count": 7,
   "metadata": {},
   "outputs": [
    {
     "data": {
      "text/plain": [
       "0.7071067811865476"
      ]
     },
     "metadata": {},
     "output_type": "display_data"
    }
   ],
   "source": [
    "display(sind(45))"
   ]
  },
  {
   "cell_type": "code",
   "execution_count": 8,
   "metadata": {},
   "outputs": [
    {
     "name": "stdout",
     "output_type": "stream",
     "text": [
      "sind(45) = 0.7071067811865476\n"
     ]
    },
    {
     "data": {
      "text/plain": [
       "0.7071067811865476"
      ]
     },
     "execution_count": 8,
     "metadata": {},
     "output_type": "execute_result"
    }
   ],
   "source": [
    "@show sind(45)"
   ]
  },
  {
   "cell_type": "markdown",
   "metadata": {},
   "source": [
    "## Tipos de Dados\n",
    "\n",
    "Em `Julia` existem basicamente dois tipos: tipos abstratos e tipos concretos. Um tipo abstrato é caracterizado por não ser instanciado, servindo apenas para a construção de outros tipos. Já os tipos concretos podem ser instanciados, mas não podem ter subtipos. A árvore de tipo da linguagem `Julia` é bem extensa porém útil, pois permite a construção de código optimizados de acordo com a aplicação.\n",
    "\n",
    "**Dados mutáveis x dados imutáveis**\n",
    "\n",
    "<img src=\"Figuras/tipos-arvore-julia.png\" align=\"center\" width=\"500\">\n",
    "\n",
    "<center>Fonte: (TOAL et al, 2017)</center>"
   ]
  },
  {
   "cell_type": "markdown",
   "metadata": {},
   "source": [
    "### NÚMEROS INTEIROS:\n",
    "\n",
    "São definidos como tipos inteiros os dados numéricos, não racionais, positivos ou negativos. Podem ser representados sem sinal(`unsigned`) ou com sinal (`signed`) capaz de representar números negativos.\n",
    "\n",
    "<table cellspacing=\"2\" cellpadding=\"2\">\n",
    "<tbody>\n",
    "<tr>\n",
    "<th>\n",
    "<p>Tipo</p>\n",
    "</th>\n",
    "<th>\n",
    "<p>Número de Bits</p>\n",
    "</th>\n",
    "<th>\n",
    "<p>Menor Valor</p>\n",
    "</th>\n",
    "<th>Maior Valor</th>\n",
    "</tr>\n",
    "<tr>\n",
    "<td>\n",
    "<p>Int8</p>\n",
    "</td>\n",
    "<td>\n",
    "<p>8</p>\n",
    "</td>\n",
    "<td>\n",
    "<p>$-2^7$</p>\n",
    "</td>\n",
    "<td>\n",
    "<p>$2^7 - 1$</p>\n",
    "</td>\n",
    "</tr>\n",
    "<tr>\n",
    "<td>\n",
    "<p>UInt8</p>\n",
    "</td>\n",
    "<td>\n",
    "<p>8</p>\n",
    "</td>\n",
    "<td>\n",
    "<p>0</p>\n",
    "</td>\n",
    "<td>\n",
    "<p>$2^8 - 1$</p>\n",
    "</td>\n",
    "</tr>\n",
    "<tr>\n",
    "<td>\n",
    "<p>Int16</p>\n",
    "</td>\n",
    "<td>\n",
    "<p>16</p>\n",
    "</td>\n",
    "<td>\n",
    "<p>$-2^{15}$</p>\n",
    "</td>\n",
    "<td>\n",
    "<p>$2^{15} - 1$</p>\n",
    "</td>\n",
    "</tr>\n",
    "<tr>\n",
    "<td>\n",
    "<p>UInt16</p>\n",
    "</td>\n",
    "<td>\n",
    "<p>16</p>\n",
    "</td>\n",
    "<td>\n",
    "<p>0</p>\n",
    "</td>\n",
    "<td>\n",
    "<p>$2^{16} - 1$</p>\n",
    "</td>\n",
    "</tr>\n",
    "<tr>\n",
    "<td>\n",
    "<p>Int32</p>\n",
    "</td>\n",
    "<td>\n",
    "<p>32</p>\n",
    "</td>\n",
    "<td>\n",
    "<p>$-2^{31}$</p>\n",
    "</td>\n",
    "<td>\n",
    "<p>$2^{31} - 1$</p>\n",
    "</td>\n",
    "</tr>\n",
    "<tr>\n",
    "<td>\n",
    "<p>UInt32</p>\n",
    "</td>\n",
    "<td>\n",
    "<p>32</p>\n",
    "</td>\n",
    "<td>\n",
    "<p>0</p>\n",
    "</td>\n",
    "<td>\n",
    "<p>$2^{32} - 1$</p>\n",
    "</td>\n",
    "</tr>\n",
    "<tr>\n",
    "<td>\n",
    "<p>Int64</p>\n",
    "</td>\n",
    "<td>\n",
    "<p>64</p>\n",
    "</td>\n",
    "<td>\n",
    "<p>$-2^{63}$</p>\n",
    "</td>\n",
    "<td>\n",
    "<p>$2^{63} - 1$</p>\n",
    "</td>\n",
    "</tr>\n",
    "<tr>\n",
    "<td>\n",
    "<p>UInt64</p>\n",
    "</td>\n",
    "<td>\n",
    "<p>64</p>\n",
    "</td>\n",
    "<td>\n",
    "<p>0</p>\n",
    "</td>\n",
    "<td>\n",
    "<p>$2^{64} - 1$</p>\n",
    "</td>\n",
    "</tr>\n",
    "<tr>\n",
    "<td>\n",
    "<p>Int128</p>\n",
    "</td>\n",
    "<td>\n",
    "<p>128</p>\n",
    "</td>\n",
    "<td>\n",
    "<p>$-2^{127}$</p>\n",
    "</td>\n",
    "<td>\n",
    "<p>$2^{127} - 1$</p>\n",
    "</td>\n",
    "</tr>\n",
    "<tr>\n",
    "<td>\n",
    "<p>UInt128</p>\n",
    "</td>\n",
    "<td>\n",
    "<p>128</p>\n",
    "</td>\n",
    "<td>\n",
    "<p>0</p>\n",
    "</td>\n",
    "<td>\n",
    "<p>$2^{128} - 1$</p>\n",
    "</td>\n",
    "</tr>\n",
    "<tr>\n",
    "<td>\n",
    "<p>Bool</p>\n",
    "</td>\n",
    "<td>\n",
    "<p>8</p>\n",
    "</td>\n",
    "<td>\n",
    "<p>false(0)</p>\n",
    "</td>\n",
    "<td>\n",
    "<p>true(1)</p>\n",
    "</td>\n",
    "</tr>\n",
    "</tbody>\n",
    "</table>\n",
    "\n"
   ]
  },
  {
   "cell_type": "markdown",
   "metadata": {},
   "source": [
    "###  PONTO FLUTUANTE:\n",
    "\n",
    "Os números de ponto flutuante na linguagem Julia seguem o padrão IEEE 754, definido como:\n",
    "\n",
    "$$SM * 2^E$$\n",
    "$S$ é o sinal, $M$ é a mantissa ou parte fracionária, 2 é a base (binário) e $E$ é o expoente. A tabela abaixo contém \n",
    "\n",
    "<table width=\"250\" cellspacing=\"0\" cellpadding=\"2\">\n",
    "<tbody>\n",
    "<tr>\n",
    "<th width=\"63\">\n",
    "<p>Tipo</p>\n",
    "</th>\n",
    "<th width=\"66\">\n",
    "<p>Precisão</p>\n",
    "</th>\n",
    "<th width=\"108\">Número de Bits</th>\n",
    "</tr>\n",
    "<tr>\n",
    "<td width=\"63\">\n",
    "<p><code>Float16</code></p>\n",
    "</td>\n",
    "<td width=\"66\">\n",
    "<p>half</p>\n",
    "</td>\n",
    "<td width=\"108\">\n",
    "<p>16</p>\n",
    "</td>\n",
    "</tr>\n",
    "<tr>\n",
    "<td width=\"63\">\n",
    "<p><code>Float32</code></p>\n",
    "</td>\n",
    "<td width=\"66\">\n",
    "<p>single</p>\n",
    "</td>\n",
    "<td width=\"108\">\n",
    "<p>32</p>\n",
    "</td>\n",
    "</tr>\n",
    "<tr>\n",
    "<td width=\"63\">\n",
    "<p><code>Float64</code></p>\n",
    "</td>\n",
    "<td width=\"66\">\n",
    "<p>double</p>\n",
    "</td>\n",
    "<td width=\"108\">\n",
    "<p>64</p>\n",
    "</td>\n",
    "</tr>\n",
    "</tbody>\n",
    "</table>"
   ]
  },
  {
   "cell_type": "markdown",
   "metadata": {},
   "source": [
    "### TIPOS RACIONAIS:\n",
    "\n",
    "Julia tem um tipo específico para representar números racionais construídos usando o operador `//`. Os números racionais são úteis quando é necessário representar proporções exatas de inteiros composto por numerador e denominador, eliminando dessa forma problemas de arredondamento.\n",
    "\n",
    "Exemplo: representar $ \\displaystyle {1 \\over 3} + {7 \\over 7} $"
   ]
  },
  {
   "cell_type": "code",
   "execution_count": 11,
   "metadata": {},
   "outputs": [
    {
     "data": {
      "text/plain": [
       "8//3"
      ]
     },
     "execution_count": 11,
     "metadata": {},
     "output_type": "execute_result"
    }
   ],
   "source": [
    "1//3 + 7//3"
   ]
  },
  {
   "cell_type": "markdown",
   "metadata": {},
   "source": [
    "Quando ocorre uma operação de um racional com um inteiro, Julia normaliza para um denominador comum. No caso de um tipo flutuante o racional é convertido para flutuante."
   ]
  },
  {
   "cell_type": "code",
   "execution_count": 12,
   "metadata": {},
   "outputs": [
    {
     "data": {
      "text/plain": [
       "7//3"
      ]
     },
     "execution_count": 12,
     "metadata": {},
     "output_type": "execute_result"
    }
   ],
   "source": [
    "1//3 + 2"
   ]
  },
  {
   "cell_type": "markdown",
   "metadata": {},
   "source": [
    "## VARIÁVEIS E CONSTANTES\n",
    "\n",
    "\n",
    "Em função da tipagem dinâmica de , uma variável pode alterar o tipo em tempo de execução conforme o valor atribuído. Os nomes das variáveis são `case-sensitive` (há diferença entre nomes com letras maiúsculas e minúsculas) e devem começar com uma letra (A-Z ou a-z). Variáveis locais e globais. Variáveis globais ..... . Variáveis locais.... . De acordo com Benzason et all (2015) é difícil para o compilador otimizar o código envolvendo variáveis globais, já que seus valores (ou até mesmo seus tipos) podem mudar a qualquer momento. Declarar uma variável global como `const` resolve esse problema de desempenho."
   ]
  },
  {
   "cell_type": "code",
   "execution_count": 13,
   "metadata": {},
   "outputs": [
    {
     "data": {
      "text/plain": [
       "4"
      ]
     },
     "execution_count": 13,
     "metadata": {},
     "output_type": "execute_result"
    }
   ],
   "source": [
    "# Atribindo o valor 2 a variavel x\n",
    "x = 2\n",
    "# Executando o cálculo\n",
    "x^2"
   ]
  },
  {
   "cell_type": "markdown",
   "metadata": {},
   "source": [
    "**`'INPUT'` de dados**\n",
    "\n",
    "A função `readlines()` permite ler caracteres digitados."
   ]
  },
  {
   "cell_type": "code",
   "execution_count": 17,
   "metadata": {},
   "outputs": [
    {
     "name": "stdout",
     "output_type": "stream",
     "text": [
      "Digite numero A :\n",
      "stdin> 10\n",
      "Digite numero B :\n",
      "stdin> 3\n",
      "Resultado da operação mod entre 10 e 3: 1\n"
     ]
    }
   ],
   "source": [
    "println(\"Digite numero A :\")\n",
    "a = readline()\n",
    "\n",
    "println(\"Digite numero B :\")\n",
    "b = readline()\n",
    "\n",
    "println(\"Resultado da operação mod entre $a e $b: \", mod(Meta.parse(a), Meta.parse(b)))"
   ]
  },
  {
   "cell_type": "code",
   "execution_count": 18,
   "metadata": {},
   "outputs": [],
   "source": [
    "# Declarando várias variáveis\n",
    "x = 5 ; y = 10 ; z = \"julia\";"
   ]
  },
  {
   "cell_type": "code",
   "execution_count": 19,
   "metadata": {},
   "outputs": [
    {
     "data": {
      "text/latex": [
       "\\begin{tabular}\n",
       "{l | r | l}\n",
       "name & size & summary \\\\\n",
       "\\hline\n",
       "Base &  & Module \\\\\n",
       "Core &  & Module \\\\\n",
       "Main &  & Module \\\\\n",
       "a & 10 bytes & String \\\\\n",
       "b & 9 bytes & String \\\\\n",
       "startupfile & 55 bytes & String \\\\\n",
       "x & 8 bytes & Int64 \\\\\n",
       "y & 8 bytes & Int64 \\\\\n",
       "z & 13 bytes & String \\\\\n",
       "\\end{tabular}\n"
      ],
      "text/markdown": [
       "| name        |     size | summary |\n",
       "|:----------- | --------:|:------- |\n",
       "| Base        |          | Module  |\n",
       "| Core        |          | Module  |\n",
       "| Main        |          | Module  |\n",
       "| a           | 10 bytes | String  |\n",
       "| b           |  9 bytes | String  |\n",
       "| startupfile | 55 bytes | String  |\n",
       "| x           |  8 bytes | Int64   |\n",
       "| y           |  8 bytes | Int64   |\n",
       "| z           | 13 bytes | String  |\n"
      ],
      "text/plain": [
       "name            size summary\n",
       "––––––––––– –––––––– –––––––\n",
       "Base                 Module \n",
       "Core                 Module \n",
       "Main                 Module \n",
       "a           10 bytes String \n",
       "b            9 bytes String \n",
       "startupfile 55 bytes String \n",
       "x            8 bytes Int64  \n",
       "y            8 bytes Int64  \n",
       "z           13 bytes String "
      ]
     },
     "execution_count": 19,
     "metadata": {},
     "output_type": "execute_result"
    }
   ],
   "source": [
    "# Variáveis criadas\n",
    "# Para ver todas as variáveis globais criadas.\n",
    "varinfo()"
   ]
  },
  {
   "cell_type": "markdown",
   "metadata": {},
   "source": [
    "## CONSTANTES\n",
    "\n",
    "A declaração `const` é útil para variáveis globais, especialmente porque é difícil para o compilador otimizar o código envolvendo variáveis globais, já que seus valores (ou até mesmo seus tipos) podem mudar a qualquer momento. Utilizar constantes declaradas como `const` resolve o problema e melhora o desempenho. "
   ]
  },
  {
   "cell_type": "code",
   "execution_count": 27,
   "metadata": {},
   "outputs": [
    {
     "data": {
      "text/plain": [
       "(π = 3.1415926535897..., ℯ = 2.7182818284590...)"
      ]
     },
     "execution_count": 27,
     "metadata": {},
     "output_type": "execute_result"
    }
   ],
   "source": [
    "π, ℯ"
   ]
  },
  {
   "cell_type": "markdown",
   "metadata": {},
   "source": [
    "## STRING\n",
    "Uma string é uma sequencia de um ou vários caracteres escritos entre aspas duplas. Quando trabalhamos com céluas do IPython/Jupyter do tipo `Markdown` e temos uma palavara que necessita dos caractes `#, % e *` ,  é necessário acrescentar a barra invertida antes dos caractere  (ex: `\\#`) para não ocorrer variação de formatação do texto. A linguagem `Julia` suporta caracteres Unicode e UTF-8. O site https://unicode-table.com/pt/ oferece várias tabelas de caractes em Unicode. Sintaxe:\n",
    "```julia\n",
    "nome_string = \"s t r i n g\"\n",
    "               1 2 3 4 5 6 -> índice\n",
    "nome_string[i]\n",
    "```\n",
    "Sendo: \n",
    "* **i**: índice da posição da sequencia string."
   ]
  },
  {
   "cell_type": "markdown",
   "metadata": {},
   "source": [
    "## TUPLA\n",
    "\n",
    "Tupla é uma sequência ordenada de elementos entre pararênteses semelhante a um vetor. A principal diferença entre arrays e tuplas é que tuplas são **imutáveis** ou seja, uma vez definido os elementos não é possível modificar o valor ou tipo do conteúdo. Tuplas são utilizadas quando é necessário representar dados que não devem ser modificados, pois dessa forma é garantido a integridade dos dados e assegurando que até o programador ou um bug não consigam modificar sua estrutura. Na linguagem `Julia` as tuplas são utilizadas com muita frequencia para expressar listas de argumentos e para retornar múltiplos valores de funções. Sintaxe:\n",
    "```julia\n",
    "(elemento_1, elemento_2, ..., elemento_n)\n",
    "```\n",
    "E o tipo pode ser inteiro, float, complex e outros."
   ]
  },
  {
   "cell_type": "code",
   "execution_count": 31,
   "metadata": {},
   "outputs": [
    {
     "data": {
      "text/plain": [
       "(Tuple{Int64,Int64,String}, Tuple{Int64,Int64,Float64})"
      ]
     },
     "execution_count": 31,
     "metadata": {},
     "output_type": "execute_result"
    }
   ],
   "source": [
    "t1 = (1, 2, \"3\") ; t2 = (5, 8, 9.0);\n",
    "typeof(t1), typeof(t2)"
   ]
  },
  {
   "cell_type": "markdown",
   "metadata": {},
   "source": [
    "## ARRAY, LISTAS, VETORES E MATRIZES\n",
    "Um `array` é uma coleção ordenada de elementos da seguinte forma:\n",
    "```julia\n",
    "quantidade_elementos Array{Tipo,dimensão}\n",
    "```\n",
    "Na linguagem `Julia`, os arrays são usados para listas, vetores, tabelas e matrizes. Um `array` unidimensional atua como um vector ou uma lista. Uma `array` bidimensional pode ser utilizada como uma tabela ou matriz."
   ]
  },
  {
   "cell_type": "markdown",
   "metadata": {},
   "source": [
    "Vetor coluna:"
   ]
  },
  {
   "cell_type": "code",
   "execution_count": 2,
   "metadata": {},
   "outputs": [
    {
     "data": {
      "text/plain": [
       "7-element Array{Int64,1}:\n",
       " 1\n",
       " 2\n",
       " 3\n",
       " 4\n",
       " 5\n",
       " 6\n",
       " 7"
      ]
     },
     "metadata": {},
     "output_type": "display_data"
    },
    {
     "data": {
      "text/plain": [
       "5-element Array{String,1}:\n",
       " \"a\"\n",
       " \"b\"\n",
       " \"c\"\n",
       " \"d\"\n",
       " \"e\""
      ]
     },
     "metadata": {},
     "output_type": "display_data"
    }
   ],
   "source": [
    "v_col1 = [1, 2, 3, 4, 5, 6, 7]\n",
    "\n",
    "# ou \n",
    "v_col2 = [\"a\";\"b\";\"c\";\"d\";\"e\"]\n",
    "\n",
    "display(v_col1)\n",
    "display(v_col2)"
   ]
  },
  {
   "cell_type": "markdown",
   "metadata": {},
   "source": [
    "Vetor Linha. Vetores linha são bidimensionais `Array{Tipo_dado,2}`.\n"
   ]
  },
  {
   "cell_type": "code",
   "execution_count": 3,
   "metadata": {},
   "outputs": [
    {
     "data": {
      "text/plain": [
       "1×5 Array{Int64,2}:\n",
       " 1  2  3  4  5"
      ]
     },
     "execution_count": 3,
     "metadata": {},
     "output_type": "execute_result"
    }
   ],
   "source": [
    "v_lin1 = [1 2 3 4 5]"
   ]
  },
  {
   "cell_type": "code",
   "execution_count": 4,
   "metadata": {},
   "outputs": [
    {
     "name": "stdout",
     "output_type": "stream",
     "text": [
      "ndims(v_col1) = 1\n",
      "ndims(v_col2) = 1\n",
      "ndims(v_lin1) = 2\n"
     ]
    },
    {
     "data": {
      "text/plain": [
       "2"
      ]
     },
     "execution_count": 4,
     "metadata": {},
     "output_type": "execute_result"
    }
   ],
   "source": [
    "# dimensoes do vetor\n",
    "@show ndims(v_col1)\n",
    "@show ndims(v_col2) \n",
    "@show ndims(v_lin1)"
   ]
  },
  {
   "cell_type": "markdown",
   "metadata": {},
   "source": [
    "Comprimento de um vetor:"
   ]
  },
  {
   "cell_type": "code",
   "execution_count": 6,
   "metadata": {},
   "outputs": [
    {
     "data": {
      "text/plain": [
       "(7, 5, 5)"
      ]
     },
     "execution_count": 6,
     "metadata": {},
     "output_type": "execute_result"
    }
   ],
   "source": [
    "length(v_col1) , length(v_col2), length(v_lin1)"
   ]
  },
  {
   "cell_type": "markdown",
   "metadata": {},
   "source": [
    "#### MANIPULAÇÃO DE VETORES/ARRAYS\n",
    "\n",
    "Muitos dos comandos abaixo não funcionam para vetores linha."
   ]
  },
  {
   "cell_type": "code",
   "execution_count": 43,
   "metadata": {},
   "outputs": [
    {
     "data": {
      "text/plain": [
       "3-element Array{Int64,1}:\n",
       " 1\n",
       " 2\n",
       " 3"
      ]
     },
     "execution_count": 43,
     "metadata": {},
     "output_type": "execute_result"
    }
   ],
   "source": [
    "a = [1, 2, 3]"
   ]
  },
  {
   "cell_type": "markdown",
   "metadata": {},
   "source": [
    "Adicionando o elementos ao final do vetor:"
   ]
  },
  {
   "cell_type": "code",
   "execution_count": 44,
   "metadata": {},
   "outputs": [
    {
     "data": {
      "text/plain": [
       "4-element Array{Int64,1}:\n",
       "  1\n",
       "  2\n",
       "  3\n",
       " 10"
      ]
     },
     "execution_count": 44,
     "metadata": {},
     "output_type": "execute_result"
    }
   ],
   "source": [
    "push!(a,10)"
   ]
  },
  {
   "cell_type": "code",
   "execution_count": 45,
   "metadata": {},
   "outputs": [
    {
     "data": {
      "text/plain": [
       "5-element Array{Int64,1}:\n",
       "  1\n",
       "  2\n",
       "  3\n",
       " 10\n",
       " 11"
      ]
     },
     "execution_count": 45,
     "metadata": {},
     "output_type": "execute_result"
    }
   ],
   "source": [
    "append!(a,11)"
   ]
  },
  {
   "cell_type": "markdown",
   "metadata": {},
   "source": [
    "Adicionando o elementos no inicio do vetor:"
   ]
  },
  {
   "cell_type": "code",
   "execution_count": 46,
   "metadata": {},
   "outputs": [
    {
     "data": {
      "text/plain": [
       "6-element Array{Int64,1}:\n",
       " -1\n",
       "  1\n",
       "  2\n",
       "  3\n",
       " 10\n",
       " 11"
      ]
     },
     "execution_count": 46,
     "metadata": {},
     "output_type": "execute_result"
    }
   ],
   "source": [
    "prepend!(a, -1)"
   ]
  },
  {
   "cell_type": "markdown",
   "metadata": {},
   "source": [
    "Para retirar elemento do vetor.\n",
    "Para remover do final:\n",
    "```julia\n",
    "pop!(vetor)\n",
    "```\n",
    "Para remover do inicio:\n",
    "```julia\n",
    "popfirst!(vetor)\n",
    "```\n",
    "Para remover de qualquer posição:\n",
    "```julia\n",
    "deleteat!(vetor, posicao)\n",
    "```"
   ]
  },
  {
   "cell_type": "code",
   "execution_count": 47,
   "metadata": {},
   "outputs": [
    {
     "name": "stdout",
     "output_type": "stream",
     "text": [
      "pop!(a) = 11\n",
      "popfirst!(a) = -1\n",
      "deleteat!(a, 4) = [1, 2, 3]\n"
     ]
    },
    {
     "data": {
      "text/plain": [
       "3-element Array{Int64,1}:\n",
       " 1\n",
       " 2\n",
       " 3"
      ]
     },
     "execution_count": 47,
     "metadata": {},
     "output_type": "execute_result"
    }
   ],
   "source": [
    "@show pop!(a)\n",
    "@show popfirst!(a)\n",
    "@show deleteat!(a, 4)"
   ]
  },
  {
   "cell_type": "markdown",
   "metadata": {},
   "source": [
    "#### CRIAÇÃO E ACESSO A ELEMENTOS DE MATRIZES\n",
    "\n",
    "Matrizes são formadas por vetores linhas (matriz 1xn) e a índice dos elementos segue a lógica de 1 a n (quantidade de elementos) lidos de cima para baixo, coluna por coluna. Sintaxe:\n",
    "```julia\n",
    "[elemento_1_1  elemento_1_2 ... ; elemento_2_1  elemento_2_2...; elemento_n_1  ...  elemento_n_m]\n",
    "```\n",
    "Para acessar elementos de uma matriz temos a sintaxe:\n",
    "```julia\n",
    "matriz[linha, coluna]\n",
    "```"
   ]
  },
  {
   "cell_type": "code",
   "execution_count": 49,
   "metadata": {},
   "outputs": [
    {
     "data": {
      "text/plain": [
       "3×3 Array{Int64,2}:\n",
       "  2   4   6\n",
       "  8   9  10\n",
       " 12  14  15"
      ]
     },
     "execution_count": 49,
     "metadata": {},
     "output_type": "execute_result"
    }
   ],
   "source": [
    "#Criando uma matriz\n",
    "Ma = [2 4 6 ; 8 9 10 ; 12 14 15]"
   ]
  },
  {
   "cell_type": "code",
   "execution_count": 51,
   "metadata": {},
   "outputs": [
    {
     "data": {
      "text/plain": [
       "3×3 Array{Int64,2}:\n",
       "  4   8  12\n",
       " 16  18  20\n",
       " 24  28  30"
      ]
     },
     "execution_count": 51,
     "metadata": {},
     "output_type": "execute_result"
    }
   ],
   "source": [
    "Ma2 = Ma*2"
   ]
  },
  {
   "cell_type": "code",
   "execution_count": 53,
   "metadata": {},
   "outputs": [
    {
     "data": {
      "text/plain": [
       "3×3 Array{Int64,2}:\n",
       " 216  256  284\n",
       " 416  506  576\n",
       " 632  768  874"
      ]
     },
     "execution_count": 53,
     "metadata": {},
     "output_type": "execute_result"
    }
   ],
   "source": [
    "Ma * Ma2"
   ]
  },
  {
   "cell_type": "code",
   "execution_count": 60,
   "metadata": {},
   "outputs": [
    {
     "data": {
      "text/plain": [
       "3×3 Array{Int64,2}:\n",
       "  6  12  18\n",
       " 24  27  30\n",
       " 36  42  45"
      ]
     },
     "execution_count": 60,
     "metadata": {},
     "output_type": "execute_result"
    }
   ],
   "source": [
    "Ma + Ma2"
   ]
  },
  {
   "cell_type": "code",
   "execution_count": 63,
   "metadata": {},
   "outputs": [
    {
     "data": {
      "text/plain": [
       "3×3 Array{Int64,2}:\n",
       " 2  3   4\n",
       " 4  6   8\n",
       " 6  9  12"
      ]
     },
     "execution_count": 63,
     "metadata": {},
     "output_type": "execute_result"
    }
   ],
   "source": [
    "[1, 2, 3] * [2 3 4]"
   ]
  },
  {
   "cell_type": "markdown",
   "metadata": {},
   "source": [
    "\n",
    "\n",
    "## OPERADORES RELACIONAIS\n",
    "\n",
    "Operadores relacionais são utilizados para comparar valores de expressões simples ou compostas, resultado em um valor lógico VERDADEIRO ou FALSO. \n",
    "<table aling=\"center\">\n",
    "\t<thead>\n",
    "\t\t<tr>\n",
    "\t\t\t<th>Operador</th>\n",
    "\t\t\t<th>Nome</th>\n",
    "\t\t</tr>\n",
    "\t</thead>\n",
    "\t<tbody>\n",
    "\t\t<tr>\n",
    "\t\t\t<td> == </td>\n",
    "\t\t\t<td>Igual a </td>\n",
    "\t\t</tr>\n",
    "\t\t<tr>\n",
    "\t\t\t<td>=!</td>\n",
    "\t\t\t<td>Diferente</td>\n",
    "\t\t</tr>\n",
    "\t\t<tr>\n",
    "\t\t\t<td> > </td>\n",
    "\t\t\t<td>maior que</td>\n",
    "\t\t</tr>\n",
    "\t\t<tr>\n",
    "\t\t\t<td> < </td>\n",
    "\t\t\t<td>menor que</td>\n",
    "\t\t</tr>\n",
    "        <tr>\n",
    "\t\t\t<td> >= </td>\n",
    "\t\t\t<td>maior igual</td>\n",
    "\t\t</tr>\n",
    "        <tr>\n",
    "\t\t\t<td> <= </td>\n",
    "\t\t\t<td>menor igual</td>\n",
    "\t\t</tr>\n",
    "\t</tbody>\n",
    "</table>\n",
    "\n",
    "* `isequal(x, y)`  , verdadeiro se x e y são idêntico\n",
    "* `isfinite(x)`\t   , verdadeiro se x é um número infinito \n",
    "* `isinf(x)`       , verdadeiro se x é infinito (inf)\n",
    "* `isnan(x)`       , x não é um número"
   ]
  },
  {
   "cell_type": "markdown",
   "metadata": {},
   "source": [
    "## OPERADORES LÓGIGOS \n",
    "\n",
    "Operadores lógicos são utilizados para criar operações lógicas mais complexas resultado em um valor lógico. O valor de uma expressão lógica é ou VERDADEIRO ou FALSO. Principais operadores lógicos: \n",
    "\n",
    "| Expressão  | Nome                          |\n",
    "| ---------- | ------------------------------|\n",
    "| `~x`       | Negação                       |\n",
    "| `x & y`    | E                             |\n",
    "| `x | y`    | OU                            |\n",
    "| `x ⊻ y`    | Ou exclusivo                  |\n",
    "| `x >>> y`  | deslocamento para a direita   |\n",
    "| `x >> y`   | arithmetic shift right        |\n",
    "| `x << y`   | logical/arithmetic shift left |\n",
    "\n",
    "Uma expressão booleana é verdadeira se o resultado do cálculo das combinações lógicas das expressões booleanas for verdadeiro."
   ]
  },
  {
   "cell_type": "markdown",
   "metadata": {},
   "source": [
    "## EXPRESSÕES COMPOSTAS\n",
    "\n",
    "Uma expressão composta avalia várias subexpressões em ordem e retorna o valor da última subexpressão. Sintaxe:\n",
    "```julia\n",
    "variável = begin\n",
    "    expressão_1\n",
    "    expressão_2\n",
    "    ...\n",
    "    expressão_n\n",
    "end\n",
    "```\n",
    "ou\n",
    "```julia\n",
    "variável = (expressão_1; expressão_2;...;expressão_n)\n",
    "```"
   ]
  },
  {
   "cell_type": "code",
   "execution_count": 39,
   "metadata": {},
   "outputs": [
    {
     "data": {
      "text/plain": [
       "([8.70829, -28.7083], [0.44949, -4.44949])"
      ]
     },
     "execution_count": 39,
     "metadata": {},
     "output_type": "execute_result"
    }
   ],
   "source": [
    "# Por padrão, será impresso somente a ultima linha, mas as variáveis internas são acessíveis\n",
    "x = begin\n",
    "    a = 5\n",
    "    b = 4\n",
    "    c = -2\n",
    "    \n",
    "    d = b^2 - 4*a*c\n",
    "    \n",
    "    [(-b + sqrt(d))/2*a, (-b - sqrt(d))/2*a]\n",
    "end\n",
    "y = (a = 1; b = 4; c = -2; d = b^2 - 4*a*c; [(-b + sqrt(d))/2*a, (-b - sqrt(d))/2*a])\n",
    "x,y"
   ]
  },
  {
   "cell_type": "markdown",
   "metadata": {},
   "source": [
    "\n",
    "## ESTRUTURAS DE CONTROLE CONDICIONAIS\n",
    "\n",
    " As estruturas condional ou de seleção, são utilizadas para selecionar quais fluxos de dados serão executados durante a execução de um código. Na linguagem Julia temos as estruturas `if` e opcionalmente `switch`.\n",
    " \n",
    " ### CONDICIONAL \"IF\" (SE)\n",
    "\n",
    "A função  `sleep(tempo_segundos)` permite controlar o laço em um determinado tempo em segundos. Sintaxe Básica:\n",
    "\n",
    "```julia\n",
    "if condição                   if condição                if condição\n",
    "   instruções                    instruções                 instruções\n",
    "end                           else                       elseif\n",
    "                                 instruções                 instruções\n",
    "                              end                        elseif\n",
    "                                                            ...\n",
    "                                                         else\n",
    "                                                             instruções\n",
    "                                                         end\n",
    "                              \n",
    "```\n",
    "\n",
    "### CONDICIONAL \"TROCAR\" (SWITCH) \n",
    "\n",
    "Não existe um comando nativo para \"case\" ou \"swith\" na linguagem `Julia`. Pode ser utilizado uma sequencia de `if...elseif...else...end`. \n",
    "\n",
    "### OPERADOR TERNÁRIO\n",
    "\n",
    "O operador ternário **(:?)** está relacionado com a sintaxe `if-elseif-else` e recebe este nome em função de ser o único operador na maioria das linguagens que tomam três operandos: \n",
    "\n",
    "```julia\n",
    "condição ? expressão_1 : expressão_2\n",
    "```\n",
    "\n",
    "A operação ternária efeturá a **\"expressão1\"** antes do **\":\"**    se a **\"condição\"** é verdadeira ou a **\"expressão_2\"** depois do **\":\"** se **condição** for falsa. "
   ]
  },
  {
   "cell_type": "markdown",
   "metadata": {},
   "source": [
    "## AVALIAÇÃO DE CURTO CIRCUITO\n",
    "\n",
    "* A subexpressão `B` só é avaliada se a subexpressão `A` for verdadeira:\n",
    "\n",
    "```julia\n",
    "A && B\n",
    "```\n",
    "* A subexpressão `B` só é avaliada se a subexpressão `A` for falsa:\n",
    "\n",
    "```julia\n",
    "A || B\n",
    "```\n"
   ]
  },
  {
   "cell_type": "code",
   "execution_count": 84,
   "metadata": {
    "scrolled": true
   },
   "outputs": [
    {
     "name": "stdout",
     "output_type": "stream",
     "text": [
      "passou por a2\n",
      "passou por a3\n",
      "passou por b3\n",
      "entrou no terceiro if\n"
     ]
    }
   ],
   "source": [
    "curto(x::Bool, nome::String)= x ? (println(\"passou por \", nome); true) : false\n",
    "if curto(false, \"a1\") && curto(true, \"b1\")\n",
    "    println(\"entrou no primeiro if\")\n",
    "end\n",
    "if curto(true, \"a2\") && curto(false, \"b2\")\n",
    "    println(\"entrou no segundo if\")\n",
    "end\n",
    "if curto(true, \"a3\") && curto(true, \"b3\")\n",
    "    println(\"entrou no terceiro if\")\n",
    "end"
   ]
  },
  {
   "cell_type": "markdown",
   "metadata": {},
   "source": [
    "## ESTRUTURAS DE CONTROLE DE REPETIÇÃO\n",
    "\n",
    "Julia possui as estruturas de repetição `for, while` e `do`. \n",
    "\n",
    "### REPETIÇÃO \"FOR\" \n",
    "\n",
    "Em um laço de repetição `for`, a execução de uma ou grupo de instruções é repetida várias vezes de forma consecutiva até o limite definido por um elemento sequencial. A função  `sleep(tempo_segundos)` permite controlar o tempo do laço em segundos.\n",
    "\n",
    "Sintaxe Básica:\n",
    "```julia\n",
    "for variável = / in coleção\n",
    "    instruções\n",
    "end\n",
    "```\n",
    "Sendo: \n",
    "* **coleção**: lista, vetor, matriz, dicionário ou conjunto.\n",
    "\n",
    "**Break e Continue**\n",
    "\n",
    "O comando `break` interrompe o loop imediatamente quando uma condição é satisfeita. O comando `continue` interrompe a iteração atual do loop e passa para a próxima iteração.\n",
    "Sintaxe:\n",
    "```julia\n",
    "for variável = coleção # pode ser variável in \n",
    "    condição variável\n",
    "        continue/break\n",
    "    end\n",
    "end\n",
    "```\n",
    "\n",
    "### REPETIÇÃO \"ENQUANTO\" (WHILE)\n",
    "\n",
    "O comando `while` permite que uma parte do código seja executado enquanto uma determinada condição for verdadeira. A função  `sleep(tempo_segundos)` permite controlar o laço em um determinado tempo em segundos.\n",
    "Sintaxe Básica:\n",
    "```julia\n",
    "while condição \n",
    "    instruções\n",
    "end\n",
    "```\n",
    "\n",
    "### REPETIÇÃO DO\n",
    "\n",
    "Sintaxe Básica:\n",
    "```julia\n",
    "função do variável\n",
    "  instruções\n",
    "end\n",
    "```"
   ]
  },
  {
   "cell_type": "code",
   "execution_count": 40,
   "metadata": {},
   "outputs": [
    {
     "data": {
      "text/plain": [
       "1-element Array{Int64,1}:\n",
       " 41"
      ]
     },
     "execution_count": 40,
     "metadata": {},
     "output_type": "execute_result"
    }
   ],
   "source": [
    "# findall retorna o indice do vetor quando encontrar o valor igual a 5\n",
    "x = 1:0.1:20\n",
    "\n",
    "findall(x) do x\n",
    "    x == 5     \n",
    "end\n"
   ]
  },
  {
   "cell_type": "code",
   "execution_count": 41,
   "metadata": {},
   "outputs": [
    {
     "data": {
      "text/plain": [
       "5.0"
      ]
     },
     "execution_count": 41,
     "metadata": {},
     "output_type": "execute_result"
    }
   ],
   "source": [
    "x[41]"
   ]
  },
  {
   "cell_type": "markdown",
   "metadata": {},
   "source": [
    "### FUNÇÕES GENÉRICAS \n",
    "\n",
    "As funções genéricas são chamadas assim porque estão prontas para trabalhar com diferentes tipos de dados para suas variáveis. Dessa forma, será retornado o valor processador da ultima linha da função. Assim, quando temos uma função contendo várias expressões, devemos utilizar o comando `return` para explicitar qual linha retornará o valor que desejamos trabalhar fora da função. É possível ainda definir o tipo de dado do retorno calculado pela função. Sintaxe:\n",
    "\n",
    "Sintaxe:\n",
    "\n",
    "```julia\n",
    "function nome(argumento_1, argumento_2..., argumento_n)\n",
    "    expressão_1\n",
    "    expressão_2\n",
    "    ...\n",
    "    expressão_n\n",
    "    return valor_1, valor_2, ...., valor_n\n",
    "end\n",
    "```\n",
    "Há ainda uma forma reduzida da função genérica bem semelhante a uma função matemática, definida como:\n",
    "\n",
    "```julia\n",
    "nome_função(argumento_1, argumento_2..., argumento_n)  = expressão_1, expressão_2, ..., expressão_n\n",
    "```\n",
    "Ainda podemos utilizar a forma reduzida com várias linhas na forma:\n",
    "```julia\n",
    "nome_função(argumento_1, argumento_2..., argumento_n) = begin\n",
    "    expressão_1\n",
    "    expressão_2\n",
    "    ...\n",
    "    expressão_n\n",
    "    return valor_1, valor_2, ...., valor_n\n",
    "end\n",
    "```\n",
    "O resultado de uma constante aplicado a uma função é uma constante e o resultado de um vetor ou matriz aplicado a uma função corresponde a um resultado na forma de vetor ou matriz."
   ]
  },
  {
   "cell_type": "code",
   "execution_count": 43,
   "metadata": {},
   "outputs": [
    {
     "data": {
      "text/plain": [
       "36"
      ]
     },
     "execution_count": 43,
     "metadata": {},
     "output_type": "execute_result"
    }
   ],
   "source": [
    "# forma tradicional.\n",
    "function f1(x)\n",
    "    x^2 + 2*x + 1\n",
    "end\n",
    "f1(5)"
   ]
  },
  {
   "cell_type": "code",
   "execution_count": 44,
   "metadata": {},
   "outputs": [
    {
     "data": {
      "text/plain": [
       "36"
      ]
     },
     "execution_count": 44,
     "metadata": {},
     "output_type": "execute_result"
    }
   ],
   "source": [
    "# forma reduzida\n",
    "f2(x) = x^2 + 2*x + 1\n",
    "f2(5)"
   ]
  },
  {
   "cell_type": "code",
   "execution_count": 46,
   "metadata": {},
   "outputs": [
    {
     "data": {
      "text/plain": [
       "f3 (generic function with 1 method)"
      ]
     },
     "execution_count": 46,
     "metadata": {},
     "output_type": "execute_result"
    }
   ],
   "source": [
    "# Retorno Tupla\n",
    "function f3(x)\n",
    "    x^2 , x/2\n",
    "end"
   ]
  },
  {
   "cell_type": "markdown",
   "metadata": {},
   "source": [
    "#### BROADCASTING\n",
    "\n",
    "A função `broadcast(f, coleção)` aplica uma função `f` sobre uma coleção retornando outra coleção de resultados processados. Dessa forma é posível utilizar vetores, matrizes, conjuntos e tuplas como argumento de uma função no qual a será processado cada elemento da coleção. A sintaxe `f.(coleção)` é equivalente à `broadcast(f, coleção)`. Dicionários e tuplas nomeadas não podem ser utilizadas como argumento."
   ]
  },
  {
   "cell_type": "code",
   "execution_count": 47,
   "metadata": {},
   "outputs": [
    {
     "data": {
      "text/plain": [
       "3-element Array{Int64,1}:\n",
       "  9\n",
       " 16\n",
       " 25"
      ]
     },
     "execution_count": 47,
     "metadata": {},
     "output_type": "execute_result"
    }
   ],
   "source": [
    "#Vetor\n",
    "broadcast(f2, [2, 3, 4])"
   ]
  },
  {
   "cell_type": "code",
   "execution_count": 48,
   "metadata": {},
   "outputs": [
    {
     "data": {
      "text/plain": [
       "3-element Array{Int64,1}:\n",
       "  9\n",
       " 16\n",
       " 25"
      ]
     },
     "execution_count": 48,
     "metadata": {},
     "output_type": "execute_result"
    }
   ],
   "source": [
    "# Vetor\n",
    "f2.([2, 3, 4])"
   ]
  }
 ],
 "metadata": {
  "@webio": {
   "lastCommId": "6d12ad08af094c688b0b6226df094968",
   "lastKernelId": "59b866b8-f940-48fc-beba-caa9a3c2d8f8"
  },
  "kernelspec": {
   "display_name": "Julia 1.1.0",
   "language": "julia",
   "name": "julia-1.1"
  },
  "language_info": {
   "file_extension": ".jl",
   "mimetype": "application/julia",
   "name": "julia",
   "version": "1.1.0"
  }
 },
 "nbformat": 4,
 "nbformat_minor": 2
}
