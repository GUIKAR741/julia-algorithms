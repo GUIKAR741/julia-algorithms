{
 "cells": [
  {
   "cell_type": "markdown",
   "metadata": {
    "slideshow": {
     "slide_type": "slide"
    }
   },
   "source": [
    "<center><img src=\"Figuras/julia-logo.png\" align=\"center\" width=\"300\"></center>\n",
    "\n",
    "# <center> INTRODUÇÃO JULIA </center>"
   ]
  },
  {
   "cell_type": "markdown",
   "metadata": {
    "slideshow": {
     "slide_type": "slide"
    }
   },
   "source": [
    "## INFORMAÇÕES GERAIS\n",
    "\n",
    "A computação científica, também conhecida como ciência computacional, é o campo do saber destinado à construção de modelos matemáticos e técnicas de soluções numéricas utilizando  softwares  e  hardwares  para  analisar  e  resolver  problemas  científicos que exigem alta performance de processamento de grande volumes de dados. Neste contexto, existem linguagens de programação com foco em computação numérica no.\n",
    " "
   ]
  },
  {
   "cell_type": "markdown",
   "metadata": {
    "slideshow": {
     "slide_type": "subslide"
    }
   },
   "source": [
    " De acordo com uma entrevista cedida à revista `Wired`(), Stefan Karpinski, um dos desenvolvedores da linguagem Julia, passou por dificuldade para construir uma ferramenta para simular o comportamento de redes sem fio, pois necessitava utilizar várias linguagens de programação ao mesmo tempo, cada uma para uma tarefa específica - problema comum na vida de matemáticos, pesquisadores e cientistas de dados."
   ]
  },
  {
   "cell_type": "markdown",
   "metadata": {
    "slideshow": {
     "slide_type": "subslide"
    }
   },
   "source": [
    " Surgiu então a ideia de criar uma nova linguagem, destinada a computação científica que alinhasse desempenho de processamento com facilidade de aprendizado (devemos lembrar que muitos pesquisadores não são programadores profissionais). Em 2009 Karpinski em conjunto com os pesquisadores Viral Shah, Jeff Bezanson e Alan Edelman lançaram a seguinte a seguinte idéia:"
   ]
  },
  {
   "cell_type": "markdown",
   "metadata": {
    "slideshow": {
     "slide_type": "subslide"
    }
   },
   "source": [
    "###### “Queremos uma linguagem de código aberto, com uma licença livre. Queremos a velocidade de `C`  com  o  dinamismo  de `Ruby`.  Queremos  uma  linguagem  que  seja  homoicônica,  com  macros verdadeiros  como  `Lisp`,  mas  com  notação  matemática  óbvia  e  familiar  como  `Matlab`.  Queremos algo  tão  útil  para  programação  geral  como  `Python`,  tão  fácil  para  estatísticas  como  `R`,  como natural para processamento de strings como `Perl`, tão poderoso para álgebra linear como `Matlab`, tão bom e adaptável como programas juntos em `Shell`. Algo simples de aprender, mas que ainda satisfaça os hackers mais sérios. Queremos que ele interativo e queremos compilado. (Será que mencionamos que deve ser tão rápido quanto C?)”(BEZANSON, 2015)"
   ]
  },
  {
   "cell_type": "markdown",
   "metadata": {
    "slideshow": {
     "slide_type": "slide"
    }
   },
   "source": [
    "<center><img src=\"Figuras/julia-lang-fundadores.jpg\" align=\"center\" width=\"400\"></center>\n",
    "\n",
    "Dessa forma, o objetivo dos desenvolvedores foi criar uma linguagem de programação compilada (JIT – Just in time) pensada para suprir a necessidade de alto desenpenho no campo da computuação numérica de tal forma que fosse suficientemente rápida, mas igualmente fácil de aprender, com o objetivo de facilitar a modelagem computacional."
   ]
  },
  {
   "cell_type": "markdown",
   "metadata": {
    "slideshow": {
     "slide_type": "subslide"
    }
   },
   "source": [
    "Julia é codificada em `C`, `C++` e `Scheme`, e a biblioteca padrão é codificada utilizando a própria linguagem. É relativamente jovem, posto que teve início no `MIT` em agosto de 2009 como um projeto acadêmico e em fevereiro de 2012 tornou-se open source. Na imagem abaixo temos um resumo das várias influências que deram origem à linguagem Julia.  \n"
   ]
  },
  {
   "cell_type": "markdown",
   "metadata": {
    "slideshow": {
     "slide_type": "slide"
    }
   },
   "source": [
    "<center><img src=\"Figuras/logos-computacao-cientifica-influencia-julia.png\" align=\"center\" width=\"500\"></center>\n",
    "\n",
    "Julia entrou para o ranking das 50 linguagens de programação mais populares do *TIOBE Index* pela primeira vez em setembro de 2016 e desde então está evoluindo a cada ano."
   ]
  },
  {
   "cell_type": "markdown",
   "metadata": {
    "slideshow": {
     "slide_type": "subslide"
    }
   },
   "source": [
    "A comunidade apresenta crescimento significativo desde 2012, com mais de 1.200.000 downloads do software básico e mais de 1800 pacotes registrados (são milhares os pacotes não registrados disponíveis no `GitHub`).\n",
    "Em 2015 foi fundada a `Julia Computing` pelos criadores da linguagem para desenvolver produtos profissionais e oferecer serviços personalizados a empresas e pesquisadores."
   ]
  },
  {
   "cell_type": "markdown",
   "metadata": {
    "slideshow": {
     "slide_type": "slide"
    }
   },
   "source": [
    "### CARACTERÍSTICAS DA LINGUAGEM JULIA\n",
    "\n",
    "* Despacho múltiplo\n",
    "* Sistema de tipos dinâmico\n",
    "* Alta performance\n",
    "* Gerenciador de pacotes embutido\n",
    "* Macros similares a Lisp e outras funcionalidades de metaprogramação\n",
    "\n"
   ]
  },
  {
   "cell_type": "markdown",
   "metadata": {
    "slideshow": {
     "slide_type": "subslide"
    }
   },
   "source": [
    "* Chamada para funções das bibliotecas Python\n",
    "* Chamada para funções das bibliotecas C sem necessidade de wrappers ou APIs especiais\n",
    "* Funções estilo shell poderosas para gerenciar outros processos\n",
    "* Projetado para paralelismo e computação distribuída\n",
    "* Coroutines\n"
   ]
  },
  {
   "cell_type": "markdown",
   "metadata": {
    "slideshow": {
     "slide_type": "subslide"
    }
   },
   "source": [
    "* Tipos definidos pelo usuário são tão rápidos e compactos quanto os tipos nativos da linguagem\n",
    "* Geração automática de código especializado e eficiente para diferentes tipos de argumentos\n",
    "* Conversões e promoções elegantes e extensíveis para tipos numéricos e demais tipos\n",
    "* Suporte eficiente para Unicode\n",
    "* Licença MIT: grátis e de código aberto"
   ]
  },
  {
   "cell_type": "markdown",
   "metadata": {
    "slideshow": {
     "slide_type": "slide"
    }
   },
   "source": [
    "### PORQUE O NOME \"JULIA\"\n",
    "\n",
    "Aparentemente o nome surgiu a partir de uma conversa aleatória entre os criadores quando alguém sugeriu arbitrariamente que \"Julia\" seria um bom nome para uma linguagem de programação."
   ]
  },
  {
   "cell_type": "markdown",
   "metadata": {
    "slideshow": {
     "slide_type": "slide"
    }
   },
   "source": [
    "### DESTAQUES JULIA\n",
    "\n",
    "* Um novo gerenciador de pacotes que traz melhorias de desempenho e torna mais fácil a instalação de pacotes e dependências;\n",
    "* Julia tem uma nova representação canônica para valores ausentes que são bastante utilizados em estatísticas e ciência de dados. \n"
   ]
  },
  {
   "cell_type": "markdown",
   "metadata": {
    "slideshow": {
     "slide_type": "subslide"
    }
   },
   "source": [
    "* O tipo `String` agora pode conter dados arbitrários evitando falhas de Unicode inválido;\n",
    "* `Broadcasting` melhorado para trabalhar de forma eficiente com tipos personalizados e em GPUs;\n",
    "* Tuplas nomeadas;\n",
    "* O operador ponto (\".\") pode ser sobrecarregado, permitindo que os tipos usem a sintaxe `objeto.propiedade`;"
   ]
  },
  {
   "cell_type": "markdown",
   "metadata": {
    "slideshow": {
     "slide_type": "subslide"
    }
   },
   "source": [
    "* O otimizador foi remodelado e agora dispões de recursos mais sofisticados de otimização de código;\n",
    "* Construtores de tipos paramétricos são chamados com a mesma sintaxe com a qual eles são declarados;\n",
    "* O protocolo de iteração foi completamente reprojetado para facilitar a implementação de muitos tipos de iteráveis;"
   ]
  },
  {
   "cell_type": "markdown",
   "metadata": {
    "slideshow": {
     "slide_type": "subslide"
    }
   },
   "source": [
    "* As regras de implementação de escopo foram simplificadas eliminando a distinção entre \"Soft Scope\" e \"Hard Scope\";\n",
    "* A linguagem em si está mais enxuta com vários componentes separados da biblioteca base;\n",
    "* Os desensolvedores fizeram uma análise completa de todas as APIs da linguagem para melhorar a consistência e a usabilidade."
   ]
  }
 ],
 "metadata": {
  "@webio": {
   "lastCommId": "8220e0d4ed454cb78c19617406b318fb",
   "lastKernelId": "01fe4073-1b64-467b-b209-d21cd575b661"
  },
  "celltoolbar": "Slideshow",
  "kernelspec": {
   "display_name": "Julia 1.1.0",
   "language": "julia",
   "name": "julia-1.1"
  },
  "language_info": {
   "file_extension": ".jl",
   "mimetype": "application/julia",
   "name": "julia",
   "version": "1.1.0"
  }
 },
 "nbformat": 4,
 "nbformat_minor": 2
}
